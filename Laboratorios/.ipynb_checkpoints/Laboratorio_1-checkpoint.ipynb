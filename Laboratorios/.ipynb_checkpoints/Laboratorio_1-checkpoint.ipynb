{
 "cells": [
  {
   "cell_type": "code",
   "execution_count": 7,
   "metadata": {
    "colab": {
     "autoexec": {
      "startup": false,
      "wait_interval": 0
     }
    },
    "colab_type": "code",
    "id": "5726SdaRyefF"
   },
   "outputs": [],
   "source": [
    "%matplotlib inline\n",
    "import pandas as pd\n",
    "import scipy.stats as ss\n",
    "import matplotlib.pyplot as plt\n",
    "import numpy as np\n",
    "import seaborn as sns\n",
    "import warnings"
   ]
  },
  {
   "cell_type": "code",
   "execution_count": 8,
   "metadata": {
    "colab": {
     "autoexec": {
      "startup": false,
      "wait_interval": 0
     },
     "base_uri": "https://localhost:8080/",
     "height": 332
    },
    "colab_type": "code",
    "executionInfo": {
     "elapsed": 1049,
     "status": "ok",
     "timestamp": 1524787668159,
     "user": {
      "displayName": "Fran Crespo",
      "photoUrl": "//lh4.googleusercontent.com/-0Mz_pAMlJ0Y/AAAAAAAAAAI/AAAAAAAAAF0/ysPVhmNs0k4/s50-c-k-no/photo.jpg",
      "userId": "115073487429097397864"
     },
     "user_tz": 180
    },
    "id": "iFlG-kI922MQ",
    "outputId": "625d68c3-2f82-477b-be20-01a137c89c32"
   },
   "outputs": [
    {
     "data": {
      "text/html": [
       "<div>\n",
       "<style scoped>\n",
       "    .dataframe tbody tr th:only-of-type {\n",
       "        vertical-align: middle;\n",
       "    }\n",
       "\n",
       "    .dataframe tbody tr th {\n",
       "        vertical-align: top;\n",
       "    }\n",
       "\n",
       "    .dataframe thead th {\n",
       "        text-align: right;\n",
       "    }\n",
       "</style>\n",
       "<table border=\"1\" class=\"dataframe\">\n",
       "  <thead>\n",
       "    <tr style=\"text-align: right;\">\n",
       "      <th></th>\n",
       "      <th>Music</th>\n",
       "      <th>Slow songs or fast songs</th>\n",
       "      <th>Dance</th>\n",
       "      <th>Folk</th>\n",
       "      <th>Country</th>\n",
       "      <th>Classical music</th>\n",
       "      <th>Musical</th>\n",
       "      <th>Pop</th>\n",
       "      <th>Rock</th>\n",
       "      <th>Metal or Hardrock</th>\n",
       "      <th>Punk</th>\n",
       "      <th>Hiphop, Rap</th>\n",
       "      <th>Reggae, Ska</th>\n",
       "      <th>Swing, Jazz</th>\n",
       "      <th>Rock n roll</th>\n",
       "      <th>Alternative</th>\n",
       "      <th>Latino</th>\n",
       "      <th>Techno, Trance</th>\n",
       "      <th>Opera</th>\n",
       "      <th>Movies</th>\n",
       "      <th>Horror</th>\n",
       "      <th>Thriller</th>\n",
       "      <th>Comedy</th>\n",
       "      <th>Romantic</th>\n",
       "      <th>Sci-fi</th>\n",
       "      <th>War</th>\n",
       "      <th>Fantasy/Fairy tales</th>\n",
       "      <th>Animated</th>\n",
       "      <th>Documentary</th>\n",
       "      <th>Western</th>\n",
       "      <th>Action</th>\n",
       "      <th>History</th>\n",
       "      <th>Psychology</th>\n",
       "      <th>Politics</th>\n",
       "      <th>Mathematics</th>\n",
       "      <th>Physics</th>\n",
       "      <th>Internet</th>\n",
       "      <th>PC</th>\n",
       "      <th>Economy Management</th>\n",
       "      <th>Biology</th>\n",
       "      <th>Chemistry</th>\n",
       "      <th>Reading</th>\n",
       "      <th>Geography</th>\n",
       "      <th>Foreign languages</th>\n",
       "      <th>Medicine</th>\n",
       "      <th>Law</th>\n",
       "      <th>Cars</th>\n",
       "      <th>Art exhibitions</th>\n",
       "      <th>Religion</th>\n",
       "      <th>Countryside, outdoors</th>\n",
       "      <th>Dancing</th>\n",
       "      <th>Musical instruments</th>\n",
       "      <th>Writing</th>\n",
       "      <th>Passive sport</th>\n",
       "      <th>Active sport</th>\n",
       "      <th>Gardening</th>\n",
       "      <th>Celebrities</th>\n",
       "      <th>Shopping</th>\n",
       "      <th>Science and technology</th>\n",
       "      <th>Theatre</th>\n",
       "      <th>Fun with friends</th>\n",
       "      <th>Adrenaline sports</th>\n",
       "      <th>Pets</th>\n",
       "      <th>Flying</th>\n",
       "      <th>Storm</th>\n",
       "      <th>Darkness</th>\n",
       "      <th>Heights</th>\n",
       "      <th>Spiders</th>\n",
       "      <th>Snakes</th>\n",
       "      <th>Rats</th>\n",
       "      <th>Ageing</th>\n",
       "      <th>Dangerous dogs</th>\n",
       "      <th>Fear of public speaking</th>\n",
       "      <th>Smoking</th>\n",
       "      <th>Alcohol</th>\n",
       "      <th>Healthy eating</th>\n",
       "      <th>Daily events</th>\n",
       "      <th>Prioritising workload</th>\n",
       "      <th>Writing notes</th>\n",
       "      <th>Workaholism</th>\n",
       "      <th>Thinking ahead</th>\n",
       "      <th>Final judgement</th>\n",
       "      <th>Reliability</th>\n",
       "      <th>Keeping promises</th>\n",
       "      <th>Loss of interest</th>\n",
       "      <th>Friends versus money</th>\n",
       "      <th>Funniness</th>\n",
       "      <th>Fake</th>\n",
       "      <th>Criminal damage</th>\n",
       "      <th>Decision making</th>\n",
       "      <th>Elections</th>\n",
       "      <th>Self-criticism</th>\n",
       "      <th>Judgment calls</th>\n",
       "      <th>Hypochondria</th>\n",
       "      <th>Empathy</th>\n",
       "      <th>Eating to survive</th>\n",
       "      <th>Giving</th>\n",
       "      <th>Compassion to animals</th>\n",
       "      <th>Borrowed stuff</th>\n",
       "      <th>Loneliness</th>\n",
       "      <th>Cheating in school</th>\n",
       "      <th>Health</th>\n",
       "      <th>Changing the past</th>\n",
       "      <th>God</th>\n",
       "      <th>Dreams</th>\n",
       "      <th>Charity</th>\n",
       "      <th>Number of friends</th>\n",
       "      <th>Punctuality</th>\n",
       "      <th>Lying</th>\n",
       "      <th>Waiting</th>\n",
       "      <th>New environment</th>\n",
       "      <th>Mood swings</th>\n",
       "      <th>Appearence and gestures</th>\n",
       "      <th>Socializing</th>\n",
       "      <th>Achievements</th>\n",
       "      <th>Responding to a serious letter</th>\n",
       "      <th>Children</th>\n",
       "      <th>Assertiveness</th>\n",
       "      <th>Getting angry</th>\n",
       "      <th>Knowing the right people</th>\n",
       "      <th>Public speaking</th>\n",
       "      <th>Unpopularity</th>\n",
       "      <th>Life struggles</th>\n",
       "      <th>Happiness in life</th>\n",
       "      <th>Energy levels</th>\n",
       "      <th>Small - big dogs</th>\n",
       "      <th>Personality</th>\n",
       "      <th>Finding lost valuables</th>\n",
       "      <th>Getting up</th>\n",
       "      <th>Interests or hobbies</th>\n",
       "      <th>Parents' advice</th>\n",
       "      <th>Questionnaires or polls</th>\n",
       "      <th>Internet usage</th>\n",
       "      <th>Finances</th>\n",
       "      <th>Shopping centres</th>\n",
       "      <th>Branded clothing</th>\n",
       "      <th>Entertainment spending</th>\n",
       "      <th>Spending on looks</th>\n",
       "      <th>Spending on gadgets</th>\n",
       "      <th>Spending on healthy eating</th>\n",
       "      <th>Age</th>\n",
       "      <th>Height</th>\n",
       "      <th>Weight</th>\n",
       "      <th>Number of siblings</th>\n",
       "      <th>Gender</th>\n",
       "      <th>Left - right handed</th>\n",
       "      <th>Education</th>\n",
       "      <th>Only child</th>\n",
       "      <th>Village - town</th>\n",
       "      <th>House - block of flats</th>\n",
       "    </tr>\n",
       "  </thead>\n",
       "  <tbody>\n",
       "    <tr>\n",
       "      <th>0</th>\n",
       "      <td>5.0</td>\n",
       "      <td>3.0</td>\n",
       "      <td>2.0</td>\n",
       "      <td>1.0</td>\n",
       "      <td>2.0</td>\n",
       "      <td>2.0</td>\n",
       "      <td>1.0</td>\n",
       "      <td>5.0</td>\n",
       "      <td>5.0</td>\n",
       "      <td>1.0</td>\n",
       "      <td>1.0</td>\n",
       "      <td>1.0</td>\n",
       "      <td>1.0</td>\n",
       "      <td>1.0</td>\n",
       "      <td>3.0</td>\n",
       "      <td>1.0</td>\n",
       "      <td>1.0</td>\n",
       "      <td>1.0</td>\n",
       "      <td>1.0</td>\n",
       "      <td>5.0</td>\n",
       "      <td>4.0</td>\n",
       "      <td>2.0</td>\n",
       "      <td>5.0</td>\n",
       "      <td>4.0</td>\n",
       "      <td>4.0</td>\n",
       "      <td>1.0</td>\n",
       "      <td>5.0</td>\n",
       "      <td>5.0</td>\n",
       "      <td>3.0</td>\n",
       "      <td>1.0</td>\n",
       "      <td>2.0</td>\n",
       "      <td>1.0</td>\n",
       "      <td>5.0</td>\n",
       "      <td>1.0</td>\n",
       "      <td>3.0</td>\n",
       "      <td>3.0</td>\n",
       "      <td>5.0</td>\n",
       "      <td>3.0</td>\n",
       "      <td>5.0</td>\n",
       "      <td>3.0</td>\n",
       "      <td>3.0</td>\n",
       "      <td>3.0</td>\n",
       "      <td>3.0</td>\n",
       "      <td>5.0</td>\n",
       "      <td>3.0</td>\n",
       "      <td>1.0</td>\n",
       "      <td>1.0</td>\n",
       "      <td>1.0</td>\n",
       "      <td>1.0</td>\n",
       "      <td>5.0</td>\n",
       "      <td>3.0</td>\n",
       "      <td>3.0</td>\n",
       "      <td>2.0</td>\n",
       "      <td>1.0</td>\n",
       "      <td>5.0</td>\n",
       "      <td>5.0</td>\n",
       "      <td>1.0</td>\n",
       "      <td>4.0</td>\n",
       "      <td>4.0</td>\n",
       "      <td>2.0</td>\n",
       "      <td>5.0</td>\n",
       "      <td>4.0</td>\n",
       "      <td>4.0</td>\n",
       "      <td>1.0</td>\n",
       "      <td>1.0</td>\n",
       "      <td>1.0</td>\n",
       "      <td>1.0</td>\n",
       "      <td>1.0</td>\n",
       "      <td>5</td>\n",
       "      <td>3.0</td>\n",
       "      <td>1.0</td>\n",
       "      <td>3.0</td>\n",
       "      <td>2.0</td>\n",
       "      <td>never smoked</td>\n",
       "      <td>drink a lot</td>\n",
       "      <td>4.0</td>\n",
       "      <td>2.0</td>\n",
       "      <td>2.0</td>\n",
       "      <td>5.0</td>\n",
       "      <td>4.0</td>\n",
       "      <td>2.0</td>\n",
       "      <td>5.0</td>\n",
       "      <td>4.0</td>\n",
       "      <td>4.0</td>\n",
       "      <td>1.0</td>\n",
       "      <td>3.0</td>\n",
       "      <td>5.0</td>\n",
       "      <td>1.0</td>\n",
       "      <td>1.0</td>\n",
       "      <td>3.0</td>\n",
       "      <td>4.0</td>\n",
       "      <td>1.0</td>\n",
       "      <td>3.0</td>\n",
       "      <td>1.0</td>\n",
       "      <td>3.0</td>\n",
       "      <td>1</td>\n",
       "      <td>4.0</td>\n",
       "      <td>5.0</td>\n",
       "      <td>4.0</td>\n",
       "      <td>3.0</td>\n",
       "      <td>2.0</td>\n",
       "      <td>1.0</td>\n",
       "      <td>1.0</td>\n",
       "      <td>1.0</td>\n",
       "      <td>4</td>\n",
       "      <td>2.0</td>\n",
       "      <td>3</td>\n",
       "      <td>i am always on time</td>\n",
       "      <td>never</td>\n",
       "      <td>3.0</td>\n",
       "      <td>4.0</td>\n",
       "      <td>3.0</td>\n",
       "      <td>4.0</td>\n",
       "      <td>3.0</td>\n",
       "      <td>4.0</td>\n",
       "      <td>3.0</td>\n",
       "      <td>5.0</td>\n",
       "      <td>1.0</td>\n",
       "      <td>1.0</td>\n",
       "      <td>3.0</td>\n",
       "      <td>5.0</td>\n",
       "      <td>5.0</td>\n",
       "      <td>1.0</td>\n",
       "      <td>4.0</td>\n",
       "      <td>5.0</td>\n",
       "      <td>1.0</td>\n",
       "      <td>4.0</td>\n",
       "      <td>3.0</td>\n",
       "      <td>2.0</td>\n",
       "      <td>3.0</td>\n",
       "      <td>4.0</td>\n",
       "      <td>3.0</td>\n",
       "      <td>few hours a day</td>\n",
       "      <td>3.0</td>\n",
       "      <td>4.0</td>\n",
       "      <td>5.0</td>\n",
       "      <td>3.0</td>\n",
       "      <td>3.0</td>\n",
       "      <td>1</td>\n",
       "      <td>3.0</td>\n",
       "      <td>20.0</td>\n",
       "      <td>163.0</td>\n",
       "      <td>48.0</td>\n",
       "      <td>1.0</td>\n",
       "      <td>female</td>\n",
       "      <td>right handed</td>\n",
       "      <td>college/bachelor degree</td>\n",
       "      <td>no</td>\n",
       "      <td>village</td>\n",
       "      <td>block of flats</td>\n",
       "    </tr>\n",
       "    <tr>\n",
       "      <th>1</th>\n",
       "      <td>4.0</td>\n",
       "      <td>4.0</td>\n",
       "      <td>2.0</td>\n",
       "      <td>1.0</td>\n",
       "      <td>1.0</td>\n",
       "      <td>1.0</td>\n",
       "      <td>2.0</td>\n",
       "      <td>3.0</td>\n",
       "      <td>5.0</td>\n",
       "      <td>4.0</td>\n",
       "      <td>4.0</td>\n",
       "      <td>1.0</td>\n",
       "      <td>3.0</td>\n",
       "      <td>1.0</td>\n",
       "      <td>4.0</td>\n",
       "      <td>4.0</td>\n",
       "      <td>2.0</td>\n",
       "      <td>1.0</td>\n",
       "      <td>1.0</td>\n",
       "      <td>5.0</td>\n",
       "      <td>2.0</td>\n",
       "      <td>2.0</td>\n",
       "      <td>4.0</td>\n",
       "      <td>3.0</td>\n",
       "      <td>4.0</td>\n",
       "      <td>1.0</td>\n",
       "      <td>3.0</td>\n",
       "      <td>5.0</td>\n",
       "      <td>4.0</td>\n",
       "      <td>1.0</td>\n",
       "      <td>4.0</td>\n",
       "      <td>1.0</td>\n",
       "      <td>3.0</td>\n",
       "      <td>4.0</td>\n",
       "      <td>5.0</td>\n",
       "      <td>2.0</td>\n",
       "      <td>4.0</td>\n",
       "      <td>4.0</td>\n",
       "      <td>5.0</td>\n",
       "      <td>1.0</td>\n",
       "      <td>1.0</td>\n",
       "      <td>4.0</td>\n",
       "      <td>4.0</td>\n",
       "      <td>5.0</td>\n",
       "      <td>1.0</td>\n",
       "      <td>2.0</td>\n",
       "      <td>2.0</td>\n",
       "      <td>2.0</td>\n",
       "      <td>1.0</td>\n",
       "      <td>1.0</td>\n",
       "      <td>1.0</td>\n",
       "      <td>1.0</td>\n",
       "      <td>1.0</td>\n",
       "      <td>1.0</td>\n",
       "      <td>1.0</td>\n",
       "      <td>1.0</td>\n",
       "      <td>2.0</td>\n",
       "      <td>3.0</td>\n",
       "      <td>3.0</td>\n",
       "      <td>2.0</td>\n",
       "      <td>4.0</td>\n",
       "      <td>2.0</td>\n",
       "      <td>5.0</td>\n",
       "      <td>1.0</td>\n",
       "      <td>1.0</td>\n",
       "      <td>1.0</td>\n",
       "      <td>2.0</td>\n",
       "      <td>1.0</td>\n",
       "      <td>1</td>\n",
       "      <td>1.0</td>\n",
       "      <td>3.0</td>\n",
       "      <td>1.0</td>\n",
       "      <td>4.0</td>\n",
       "      <td>never smoked</td>\n",
       "      <td>drink a lot</td>\n",
       "      <td>3.0</td>\n",
       "      <td>3.0</td>\n",
       "      <td>2.0</td>\n",
       "      <td>4.0</td>\n",
       "      <td>5.0</td>\n",
       "      <td>4.0</td>\n",
       "      <td>1.0</td>\n",
       "      <td>4.0</td>\n",
       "      <td>4.0</td>\n",
       "      <td>3.0</td>\n",
       "      <td>4.0</td>\n",
       "      <td>3.0</td>\n",
       "      <td>2.0</td>\n",
       "      <td>1.0</td>\n",
       "      <td>2.0</td>\n",
       "      <td>5.0</td>\n",
       "      <td>4.0</td>\n",
       "      <td>4.0</td>\n",
       "      <td>1.0</td>\n",
       "      <td>2.0</td>\n",
       "      <td>1</td>\n",
       "      <td>2.0</td>\n",
       "      <td>4.0</td>\n",
       "      <td>3.0</td>\n",
       "      <td>2.0</td>\n",
       "      <td>4.0</td>\n",
       "      <td>4.0</td>\n",
       "      <td>4.0</td>\n",
       "      <td>1.0</td>\n",
       "      <td>3</td>\n",
       "      <td>1.0</td>\n",
       "      <td>3</td>\n",
       "      <td>i am often early</td>\n",
       "      <td>sometimes</td>\n",
       "      <td>3.0</td>\n",
       "      <td>4.0</td>\n",
       "      <td>4.0</td>\n",
       "      <td>4.0</td>\n",
       "      <td>4.0</td>\n",
       "      <td>2.0</td>\n",
       "      <td>4.0</td>\n",
       "      <td>2.0</td>\n",
       "      <td>2.0</td>\n",
       "      <td>5.0</td>\n",
       "      <td>4.0</td>\n",
       "      <td>4.0</td>\n",
       "      <td>4.0</td>\n",
       "      <td>1.0</td>\n",
       "      <td>4.0</td>\n",
       "      <td>3.0</td>\n",
       "      <td>5.0</td>\n",
       "      <td>3.0</td>\n",
       "      <td>4.0</td>\n",
       "      <td>5.0</td>\n",
       "      <td>3.0</td>\n",
       "      <td>2.0</td>\n",
       "      <td>3.0</td>\n",
       "      <td>few hours a day</td>\n",
       "      <td>3.0</td>\n",
       "      <td>4.0</td>\n",
       "      <td>1.0</td>\n",
       "      <td>4.0</td>\n",
       "      <td>2.0</td>\n",
       "      <td>5</td>\n",
       "      <td>2.0</td>\n",
       "      <td>19.0</td>\n",
       "      <td>163.0</td>\n",
       "      <td>58.0</td>\n",
       "      <td>2.0</td>\n",
       "      <td>female</td>\n",
       "      <td>right handed</td>\n",
       "      <td>college/bachelor degree</td>\n",
       "      <td>no</td>\n",
       "      <td>city</td>\n",
       "      <td>block of flats</td>\n",
       "    </tr>\n",
       "    <tr>\n",
       "      <th>2</th>\n",
       "      <td>5.0</td>\n",
       "      <td>5.0</td>\n",
       "      <td>2.0</td>\n",
       "      <td>2.0</td>\n",
       "      <td>3.0</td>\n",
       "      <td>4.0</td>\n",
       "      <td>5.0</td>\n",
       "      <td>3.0</td>\n",
       "      <td>5.0</td>\n",
       "      <td>3.0</td>\n",
       "      <td>4.0</td>\n",
       "      <td>1.0</td>\n",
       "      <td>4.0</td>\n",
       "      <td>3.0</td>\n",
       "      <td>5.0</td>\n",
       "      <td>5.0</td>\n",
       "      <td>5.0</td>\n",
       "      <td>1.0</td>\n",
       "      <td>3.0</td>\n",
       "      <td>5.0</td>\n",
       "      <td>3.0</td>\n",
       "      <td>4.0</td>\n",
       "      <td>4.0</td>\n",
       "      <td>2.0</td>\n",
       "      <td>4.0</td>\n",
       "      <td>2.0</td>\n",
       "      <td>5.0</td>\n",
       "      <td>5.0</td>\n",
       "      <td>2.0</td>\n",
       "      <td>2.0</td>\n",
       "      <td>1.0</td>\n",
       "      <td>1.0</td>\n",
       "      <td>2.0</td>\n",
       "      <td>1.0</td>\n",
       "      <td>5.0</td>\n",
       "      <td>2.0</td>\n",
       "      <td>4.0</td>\n",
       "      <td>2.0</td>\n",
       "      <td>4.0</td>\n",
       "      <td>1.0</td>\n",
       "      <td>1.0</td>\n",
       "      <td>5.0</td>\n",
       "      <td>2.0</td>\n",
       "      <td>5.0</td>\n",
       "      <td>2.0</td>\n",
       "      <td>3.0</td>\n",
       "      <td>1.0</td>\n",
       "      <td>5.0</td>\n",
       "      <td>5.0</td>\n",
       "      <td>5.0</td>\n",
       "      <td>5.0</td>\n",
       "      <td>5.0</td>\n",
       "      <td>5.0</td>\n",
       "      <td>5.0</td>\n",
       "      <td>2.0</td>\n",
       "      <td>1.0</td>\n",
       "      <td>1.0</td>\n",
       "      <td>4.0</td>\n",
       "      <td>2.0</td>\n",
       "      <td>5.0</td>\n",
       "      <td>5.0</td>\n",
       "      <td>5.0</td>\n",
       "      <td>5.0</td>\n",
       "      <td>1.0</td>\n",
       "      <td>1.0</td>\n",
       "      <td>1.0</td>\n",
       "      <td>1.0</td>\n",
       "      <td>1.0</td>\n",
       "      <td>1</td>\n",
       "      <td>1.0</td>\n",
       "      <td>1.0</td>\n",
       "      <td>1.0</td>\n",
       "      <td>2.0</td>\n",
       "      <td>tried smoking</td>\n",
       "      <td>drink a lot</td>\n",
       "      <td>3.0</td>\n",
       "      <td>1.0</td>\n",
       "      <td>2.0</td>\n",
       "      <td>5.0</td>\n",
       "      <td>3.0</td>\n",
       "      <td>5.0</td>\n",
       "      <td>3.0</td>\n",
       "      <td>4.0</td>\n",
       "      <td>5.0</td>\n",
       "      <td>1.0</td>\n",
       "      <td>5.0</td>\n",
       "      <td>2.0</td>\n",
       "      <td>4.0</td>\n",
       "      <td>1.0</td>\n",
       "      <td>3.0</td>\n",
       "      <td>5.0</td>\n",
       "      <td>4.0</td>\n",
       "      <td>4.0</td>\n",
       "      <td>1.0</td>\n",
       "      <td>5.0</td>\n",
       "      <td>5</td>\n",
       "      <td>5.0</td>\n",
       "      <td>4.0</td>\n",
       "      <td>2.0</td>\n",
       "      <td>5.0</td>\n",
       "      <td>3.0</td>\n",
       "      <td>2.0</td>\n",
       "      <td>5.0</td>\n",
       "      <td>5.0</td>\n",
       "      <td>1</td>\n",
       "      <td>3.0</td>\n",
       "      <td>3</td>\n",
       "      <td>i am often running late</td>\n",
       "      <td>sometimes</td>\n",
       "      <td>2.0</td>\n",
       "      <td>3.0</td>\n",
       "      <td>4.0</td>\n",
       "      <td>3.0</td>\n",
       "      <td>5.0</td>\n",
       "      <td>3.0</td>\n",
       "      <td>4.0</td>\n",
       "      <td>4.0</td>\n",
       "      <td>3.0</td>\n",
       "      <td>4.0</td>\n",
       "      <td>3.0</td>\n",
       "      <td>2.0</td>\n",
       "      <td>4.0</td>\n",
       "      <td>4.0</td>\n",
       "      <td>4.0</td>\n",
       "      <td>4.0</td>\n",
       "      <td>3.0</td>\n",
       "      <td>3.0</td>\n",
       "      <td>3.0</td>\n",
       "      <td>4.0</td>\n",
       "      <td>5.0</td>\n",
       "      <td>3.0</td>\n",
       "      <td>1.0</td>\n",
       "      <td>few hours a day</td>\n",
       "      <td>2.0</td>\n",
       "      <td>4.0</td>\n",
       "      <td>1.0</td>\n",
       "      <td>4.0</td>\n",
       "      <td>3.0</td>\n",
       "      <td>4</td>\n",
       "      <td>2.0</td>\n",
       "      <td>20.0</td>\n",
       "      <td>176.0</td>\n",
       "      <td>67.0</td>\n",
       "      <td>2.0</td>\n",
       "      <td>female</td>\n",
       "      <td>right handed</td>\n",
       "      <td>secondary school</td>\n",
       "      <td>no</td>\n",
       "      <td>city</td>\n",
       "      <td>block of flats</td>\n",
       "    </tr>\n",
       "  </tbody>\n",
       "</table>\n",
       "</div>"
      ],
      "text/plain": [
       "   Music  Slow songs or fast songs  Dance  Folk  Country  Classical music  \\\n",
       "0    5.0                       3.0    2.0   1.0      2.0              2.0   \n",
       "1    4.0                       4.0    2.0   1.0      1.0              1.0   \n",
       "2    5.0                       5.0    2.0   2.0      3.0              4.0   \n",
       "\n",
       "   Musical  Pop  Rock  Metal or Hardrock  Punk  Hiphop, Rap  Reggae, Ska  \\\n",
       "0      1.0  5.0   5.0                1.0   1.0          1.0          1.0   \n",
       "1      2.0  3.0   5.0                4.0   4.0          1.0          3.0   \n",
       "2      5.0  3.0   5.0                3.0   4.0          1.0          4.0   \n",
       "\n",
       "   Swing, Jazz  Rock n roll  Alternative  Latino  Techno, Trance  Opera  \\\n",
       "0          1.0          3.0          1.0     1.0             1.0    1.0   \n",
       "1          1.0          4.0          4.0     2.0             1.0    1.0   \n",
       "2          3.0          5.0          5.0     5.0             1.0    3.0   \n",
       "\n",
       "   Movies  Horror  Thriller  Comedy  Romantic  Sci-fi  War  \\\n",
       "0     5.0     4.0       2.0     5.0       4.0     4.0  1.0   \n",
       "1     5.0     2.0       2.0     4.0       3.0     4.0  1.0   \n",
       "2     5.0     3.0       4.0     4.0       2.0     4.0  2.0   \n",
       "\n",
       "   Fantasy/Fairy tales  Animated  Documentary  Western  Action  History  \\\n",
       "0                  5.0       5.0          3.0      1.0     2.0      1.0   \n",
       "1                  3.0       5.0          4.0      1.0     4.0      1.0   \n",
       "2                  5.0       5.0          2.0      2.0     1.0      1.0   \n",
       "\n",
       "   Psychology  Politics  Mathematics  Physics  Internet   PC  \\\n",
       "0         5.0       1.0          3.0      3.0       5.0  3.0   \n",
       "1         3.0       4.0          5.0      2.0       4.0  4.0   \n",
       "2         2.0       1.0          5.0      2.0       4.0  2.0   \n",
       "\n",
       "   Economy Management  Biology  Chemistry  Reading  Geography  \\\n",
       "0                 5.0      3.0        3.0      3.0        3.0   \n",
       "1                 5.0      1.0        1.0      4.0        4.0   \n",
       "2                 4.0      1.0        1.0      5.0        2.0   \n",
       "\n",
       "   Foreign languages  Medicine  Law  Cars  Art exhibitions  Religion  \\\n",
       "0                5.0       3.0  1.0   1.0              1.0       1.0   \n",
       "1                5.0       1.0  2.0   2.0              2.0       1.0   \n",
       "2                5.0       2.0  3.0   1.0              5.0       5.0   \n",
       "\n",
       "   Countryside, outdoors  Dancing  Musical instruments  Writing  \\\n",
       "0                    5.0      3.0                  3.0      2.0   \n",
       "1                    1.0      1.0                  1.0      1.0   \n",
       "2                    5.0      5.0                  5.0      5.0   \n",
       "\n",
       "   Passive sport  Active sport  Gardening  Celebrities  Shopping  \\\n",
       "0            1.0           5.0        5.0          1.0       4.0   \n",
       "1            1.0           1.0        1.0          2.0       3.0   \n",
       "2            5.0           2.0        1.0          1.0       4.0   \n",
       "\n",
       "   Science and technology  Theatre  Fun with friends  Adrenaline sports  Pets  \\\n",
       "0                     4.0      2.0               5.0                4.0   4.0   \n",
       "1                     3.0      2.0               4.0                2.0   5.0   \n",
       "2                     2.0      5.0               5.0                5.0   5.0   \n",
       "\n",
       "   Flying  Storm  Darkness  Heights  Spiders  Snakes  Rats  Ageing  \\\n",
       "0     1.0    1.0       1.0      1.0      1.0       5   3.0     1.0   \n",
       "1     1.0    1.0       1.0      2.0      1.0       1   1.0     3.0   \n",
       "2     1.0    1.0       1.0      1.0      1.0       1   1.0     1.0   \n",
       "\n",
       "   Dangerous dogs  Fear of public speaking        Smoking      Alcohol  \\\n",
       "0             3.0                      2.0   never smoked  drink a lot   \n",
       "1             1.0                      4.0   never smoked  drink a lot   \n",
       "2             1.0                      2.0  tried smoking  drink a lot   \n",
       "\n",
       "   Healthy eating  Daily events  Prioritising workload  Writing notes  \\\n",
       "0             4.0           2.0                    2.0            5.0   \n",
       "1             3.0           3.0                    2.0            4.0   \n",
       "2             3.0           1.0                    2.0            5.0   \n",
       "\n",
       "   Workaholism  Thinking ahead  Final judgement  Reliability  \\\n",
       "0          4.0             2.0              5.0          4.0   \n",
       "1          5.0             4.0              1.0          4.0   \n",
       "2          3.0             5.0              3.0          4.0   \n",
       "\n",
       "   Keeping promises  Loss of interest  Friends versus money  Funniness  Fake  \\\n",
       "0               4.0               1.0                   3.0        5.0   1.0   \n",
       "1               4.0               3.0                   4.0        3.0   2.0   \n",
       "2               5.0               1.0                   5.0        2.0   4.0   \n",
       "\n",
       "   Criminal damage  Decision making  Elections  Self-criticism  \\\n",
       "0              1.0              3.0        4.0             1.0   \n",
       "1              1.0              2.0        5.0             4.0   \n",
       "2              1.0              3.0        5.0             4.0   \n",
       "\n",
       "   Judgment calls  Hypochondria  Empathy  Eating to survive  Giving  \\\n",
       "0             3.0           1.0      3.0                  1     4.0   \n",
       "1             4.0           1.0      2.0                  1     2.0   \n",
       "2             4.0           1.0      5.0                  5     5.0   \n",
       "\n",
       "   Compassion to animals  Borrowed stuff  Loneliness  Cheating in school  \\\n",
       "0                    5.0             4.0         3.0                 2.0   \n",
       "1                    4.0             3.0         2.0                 4.0   \n",
       "2                    4.0             2.0         5.0                 3.0   \n",
       "\n",
       "   Health  Changing the past  God  Dreams  Charity  Number of friends  \\\n",
       "0     1.0                1.0  1.0       4      2.0                  3   \n",
       "1     4.0                4.0  1.0       3      1.0                  3   \n",
       "2     2.0                5.0  5.0       1      3.0                  3   \n",
       "\n",
       "               Punctuality      Lying  Waiting  New environment  Mood swings  \\\n",
       "0      i am always on time      never      3.0              4.0          3.0   \n",
       "1         i am often early  sometimes      3.0              4.0          4.0   \n",
       "2  i am often running late  sometimes      2.0              3.0          4.0   \n",
       "\n",
       "   Appearence and gestures  Socializing  Achievements  \\\n",
       "0                      4.0          3.0           4.0   \n",
       "1                      4.0          4.0           2.0   \n",
       "2                      3.0          5.0           3.0   \n",
       "\n",
       "   Responding to a serious letter  Children  Assertiveness  Getting angry  \\\n",
       "0                             3.0       5.0            1.0            1.0   \n",
       "1                             4.0       2.0            2.0            5.0   \n",
       "2                             4.0       4.0            3.0            4.0   \n",
       "\n",
       "   Knowing the right people  Public speaking  Unpopularity  Life struggles  \\\n",
       "0                       3.0              5.0           5.0             1.0   \n",
       "1                       4.0              4.0           4.0             1.0   \n",
       "2                       3.0              2.0           4.0             4.0   \n",
       "\n",
       "   Happiness in life  Energy levels  Small - big dogs  Personality  \\\n",
       "0                4.0            5.0               1.0          4.0   \n",
       "1                4.0            3.0               5.0          3.0   \n",
       "2                4.0            4.0               3.0          3.0   \n",
       "\n",
       "   Finding lost valuables  Getting up  Interests or hobbies  Parents' advice  \\\n",
       "0                     3.0         2.0                   3.0              4.0   \n",
       "1                     4.0         5.0                   3.0              2.0   \n",
       "2                     3.0         4.0                   5.0              3.0   \n",
       "\n",
       "   Questionnaires or polls   Internet usage  Finances  Shopping centres  \\\n",
       "0                      3.0  few hours a day       3.0               4.0   \n",
       "1                      3.0  few hours a day       3.0               4.0   \n",
       "2                      1.0  few hours a day       2.0               4.0   \n",
       "\n",
       "   Branded clothing  Entertainment spending  Spending on looks  \\\n",
       "0               5.0                     3.0                3.0   \n",
       "1               1.0                     4.0                2.0   \n",
       "2               1.0                     4.0                3.0   \n",
       "\n",
       "   Spending on gadgets  Spending on healthy eating   Age  Height  Weight  \\\n",
       "0                    1                         3.0  20.0   163.0    48.0   \n",
       "1                    5                         2.0  19.0   163.0    58.0   \n",
       "2                    4                         2.0  20.0   176.0    67.0   \n",
       "\n",
       "   Number of siblings  Gender Left - right handed                Education  \\\n",
       "0                 1.0  female        right handed  college/bachelor degree   \n",
       "1                 2.0  female        right handed  college/bachelor degree   \n",
       "2                 2.0  female        right handed         secondary school   \n",
       "\n",
       "  Only child Village - town House - block of flats  \n",
       "0         no        village         block of flats  \n",
       "1         no           city         block of flats  \n",
       "2         no           city         block of flats  "
      ]
     },
     "execution_count": 8,
     "metadata": {},
     "output_type": "execute_result"
    }
   ],
   "source": [
    "# styling\n",
    "from matplotlib import rcParams\n",
    "pd.set_option('display.max_columns',150)\n",
    "\n",
    "# figure size in inches\n",
    "rcParams['figure.figsize'] = 19,8\n",
    "\n",
    "# warnings\n",
    "warnings.filterwarnings('ignore')\n",
    "\n",
    "dataset = pd.read_csv('responses.csv')\n",
    "dataset.head(3)"
   ]
  },
  {
   "cell_type": "markdown",
   "metadata": {
    "colab_type": "text",
    "id": "JrUPwnpay_vY"
   },
   "source": [
    "## Estadísticas descriptivas\n",
    "\n",
    "\n",
    "*   Calcular estadísticos como la moda, media, mediana y desviación estándar del peso y de la edad. ¿Responden a alguna distribución conocida?"
   ]
  },
  {
   "cell_type": "code",
   "execution_count": 9,
   "metadata": {
    "colab": {
     "autoexec": {
      "startup": false,
      "wait_interval": 0
     },
     "base_uri": "https://localhost:8080/",
     "height": 221
    },
    "colab_type": "code",
    "executionInfo": {
     "elapsed": 942,
     "status": "ok",
     "timestamp": 1524702650969,
     "user": {
      "displayName": "Alan Rizzo",
      "photoUrl": "//lh6.googleusercontent.com/-RqROVYY4CP0/AAAAAAAAAAI/AAAAAAAAO5U/6t_fP06DTBE/s50-c-k-no/photo.jpg",
      "userId": "105597132835301292136"
     },
     "user_tz": 180
    },
    "id": "s_lEn34kz51g",
    "outputId": "1f2385c4-59c5-4f6d-f5c8-cebb0b68b890"
   },
   "outputs": [
    {
     "name": "stdout",
     "output_type": "stream",
     "text": [
      "Cantidad de personas que no completaron el campo de peso: 20\n",
      "Cantidad de personas que no completaron el campo de edad: 7\n",
      "\n",
      "Moda de peso: 60\n",
      "Media de peso: 66.41\n",
      "Mediana de peso: 64\n",
      "Desviación estandar de peso: 13.84\n",
      "\n",
      "Moda de edad: 19\n",
      "Media de edad: 20.43\n",
      "Mediana de edad: 20\n",
      "Desviación estandar de edad: 2.83\n"
     ]
    }
   ],
   "source": [
    "peso = dataset.Weight\n",
    "edad = dataset.Age\n",
    "\n",
    "print('Cantidad de personas que no completaron el campo de peso: {:.0f}'.\n",
    "      format(dataset.Weight.isnull().sum()))\n",
    "print('Cantidad de personas que no completaron el campo de edad: {:.0f}'.\n",
    "      format(dataset.Age.isnull().sum()))\n",
    "print()\n",
    "print(\"Moda de peso: {:.0f}\".format(peso.mode().values[0]))\n",
    "print(\"Media de peso: {:.2f}\".format(peso.mean()))\n",
    "print(\"Mediana de peso: {:.0f}\".format(peso.median()))\n",
    "print(\"Desviación estandar de peso: {:.2f}\".format(peso.std()))\n",
    "print()\n",
    "print(\"Moda de edad: {:.0f}\".format(edad.mode().values[0]))\n",
    "print(\"Media de edad: {:.2f}\".format(edad.mean()))\n",
    "print(\"Mediana de edad: {:.0f}\".format(edad.median()))\n",
    "print(\"Desviación estandar de edad: {:.2f}\".format(edad.std()))\n"
   ]
  },
  {
   "cell_type": "code",
   "execution_count": 10,
   "metadata": {
    "colab": {
     "autoexec": {
      "startup": false,
      "wait_interval": 0
     },
     "base_uri": "https://localhost:8080/",
     "height": 354
    },
    "colab_type": "code",
    "executionInfo": {
     "elapsed": 1517,
     "status": "ok",
     "timestamp": 1524702655336,
     "user": {
      "displayName": "Alan Rizzo",
      "photoUrl": "//lh6.googleusercontent.com/-RqROVYY4CP0/AAAAAAAAAAI/AAAAAAAAO5U/6t_fP06DTBE/s50-c-k-no/photo.jpg",
      "userId": "105597132835301292136"
     },
     "user_tz": 180
    },
    "id": "zFhEOFvzBXlZ",
    "outputId": "f87cc5e7-0b17-4b6c-8dc2-9351b55aaa9e"
   },
   "outputs": [
    {
     "data": {
      "image/png": "[encoded data removed]",
      "text/plain": [
       "<matplotlib.figure.Figure at 0x2085ff2aac8>"
      ]
     },
     "metadata": {},
     "output_type": "display_data"
    }
   ],
   "source": [
    "fig, ax = plt.subplots(nrows=1, ncols=2, figsize=(20,5))\n",
    "dsw = dataset.Weight.dropna()\n",
    "dsa = dataset.Age.dropna()\n",
    "#ax = sns.countplot(dsw, palette=\"Greens_d\")\n",
    "#ax = sns.countplot(dsa, palette=\"Greens_d\")\n",
    "sns.distplot(dsw, ax=ax[0])\n",
    "sns.distplot(dsa, ax=ax[1])\n",
    "#ax.set_xticklabels(ax.get_xticklabels(), rotation=90)\n",
    "sns.despine()\n"
   ]
  },
  {
   "cell_type": "code",
   "execution_count": 11,
   "metadata": {
    "colab": {
     "autoexec": {
      "startup": false,
      "wait_interval": 0
     },
     "base_uri": "https://localhost:8080/",
     "height": 51
    },
    "colab_type": "code",
    "executionInfo": {
     "elapsed": 779,
     "status": "ok",
     "timestamp": 1524702657161,
     "user": {
      "displayName": "Alan Rizzo",
      "photoUrl": "//lh6.googleusercontent.com/-RqROVYY4CP0/AAAAAAAAAAI/AAAAAAAAO5U/6t_fP06DTBE/s50-c-k-no/photo.jpg",
      "userId": "105597132835301292136"
     },
     "user_tz": 180
    },
    "id": "WrfKpXQmFFI1",
    "outputId": "49f2b4ce-d3b8-462c-a966-126bc07a9d10"
   },
   "outputs": [
    {
     "name": "stdout",
     "output_type": "stream",
     "text": [
      "La edad se ajusta a una normal.\n",
      "El peso se ajusta a una normal.\n"
     ]
    }
   ],
   "source": [
    " def ajuste_normal(pvalor, var):\n",
    " # queremos confianza al 99%\n",
    "    if pvalor < 0.01:\n",
    "        print(\"{} no se ajusta a una normal.\".format(var))\n",
    "    else:\n",
    "        print(\"{} se ajusta a una normal.\".format(var))\n",
    "      \n",
    "media, desviacion = ss.norm.fit(dataset.Age)\n",
    "d, pvalor = ss.kstest(dataset.Age,\"norm\",args=(media,desviacion))\n",
    "ajuste_normal(pvalor, 'La edad')\n",
    "\n",
    "media, desviacion = ss.norm.fit(dataset.Weight)\n",
    "d, pvalor = ss.kstest(dataset.Weight,\"norm\",args=(media,desviacion))\n",
    "ajuste_normal(pvalor, 'El peso')"
   ]
  },
  {
   "cell_type": "markdown",
   "metadata": {
    "colab_type": "text",
    "id": "DizoVOBZIF3f"
   },
   "source": [
    "Ambas variables se ajustan a la distribución normal"
   ]
  },
  {
   "cell_type": "markdown",
   "metadata": {
    "colab_type": "text",
    "id": "JK2gkuNPzxqG"
   },
   "source": [
    "\n",
    "*   Realizar un análisis de outliers.\n"
   ]
  },
  {
   "cell_type": "code",
   "execution_count": 13,
   "metadata": {
    "colab": {
     "autoexec": {
      "startup": false,
      "wait_interval": 0
     },
     "base_uri": "https://localhost:8080/",
     "height": 626
    },
    "colab_type": "code",
    "executionInfo": {
     "elapsed": 3390,
     "status": "ok",
     "timestamp": 1524702662512,
     "user": {
      "displayName": "Alan Rizzo",
      "photoUrl": "//lh6.googleusercontent.com/-RqROVYY4CP0/AAAAAAAAAAI/AAAAAAAAO5U/6t_fP06DTBE/s50-c-k-no/photo.jpg",
      "userId": "105597132835301292136"
     },
     "user_tz": 180
    },
    "id": "8Y3TiFeuz6oG",
    "outputId": "37b0ab2d-464f-4170-f6fb-0a3186109261"
   },
   "outputs": [
    {
     "data": {
      "image/png": "[encoded data removed]",
      "text/plain": [
       "<matplotlib.figure.Figure at 0x2085fea2f60>"
      ]
     },
     "metadata": {},
     "output_type": "display_data"
    }
   ],
   "source": [
    "fig, ax = plt.subplots(nrows=2, ncols=2, figsize=(20,10))\n",
    "b1 = sns.boxplot(data=dsw, ax=ax[0][0])\n",
    "b2 = sns.boxplot(data=dsa, ax=ax[0][1])\n",
    "b1.set_ylabel('Peso')\n",
    "b2.set_ylabel('Edad')\n",
    "# Representamos las distribuciones sin los valores atípicos.\n",
    "d1 = sns.distplot(dataset[dataset.Weight < 105].Weight, ax=ax[1][0])\n",
    "d2 = sns.distplot(dataset[dataset.Age <= 26].Age, ax=ax[1][1])\n",
    "d1.set_xlabel('Peso')\n",
    "d2.set_xlabel('Edad')\n",
    "sns.despine()"
   ]
  },
  {
   "cell_type": "markdown",
   "metadata": {
    "colab_type": "text",
    "id": "UhbpA5tn1y_c"
   },
   "source": [
    "Para ver los valores atípicos usamos un diagrama de caja. El diagrama de caja muestra los cuartiles de la distribución, donde Q2 corresponde a la mediana. Para obtener los outliers basta con conocer el rango intercualtil IQR = Q3 - Q1 y multiplicarlo por un factor que suele ser 1.5. Los valores mayores a Q3 + 1.5 x IQR o menores a Q1 - 1.5 x IQR son considerados atípicos. Vemos que para el peso hay valorea atípicos que deben de corresponder a jovenes con problemas de obesidad. En la distribución de la edad existen valores atípicos que salen del rango de edad de los encuestados.\n",
    "Los dos histogramas inferiores muestran las distribuciones sin los datos atípicos. Se puede observar que las distribuciones se hacen simétricas en torno a la media."
   ]
  },
  {
   "cell_type": "markdown",
   "metadata": {
    "colab_type": "text",
    "id": "XeB3hN6dzzxP"
   },
   "source": [
    "\n",
    "*   Explicar cómo varían las métricas cuando desglosamos por género. ¿Responden a alguna distribución conocida? Comparar cualitativamente y gráficamente ambas distribuciones. Calcular la correlación entre todas estas variables y mostrarla con un gráfico conjunto."
   ]
  },
  {
   "cell_type": "code",
   "execution_count": 14,
   "metadata": {
    "colab": {
     "autoexec": {
      "startup": false,
      "wait_interval": 0
     },
     "base_uri": "https://localhost:8080/",
     "height": 170
    },
    "colab_type": "code",
    "executionInfo": {
     "elapsed": 805,
     "status": "ok",
     "timestamp": 1524703080054,
     "user": {
      "displayName": "Alan Rizzo",
      "photoUrl": "//lh6.googleusercontent.com/-RqROVYY4CP0/AAAAAAAAAAI/AAAAAAAAO5U/6t_fP06DTBE/s50-c-k-no/photo.jpg",
      "userId": "105597132835301292136"
     },
     "user_tz": 180
    },
    "id": "KF6bylrOaziW",
    "outputId": "4132dbdb-d141-4d82-aef1-d8e8f0e6e381"
   },
   "outputs": [
    {
     "name": "stdout",
     "output_type": "stream",
     "text": [
      "Moda de peso para la mujer 60 y para el hombre 80\n",
      "Media de peso para la mujer 58.96 y para el hombre 77.09\n",
      "Mediana de peso de la mujer 57 y para el hombre 77\n",
      "Desviación estandar de peso para la mujer 10.01 y para el hombre 11.35\n",
      "\n",
      "Moda de edad para la mujer 19 y para el hombre 19\n",
      "Media de edad para la mujer 20.11 y para el hombre 20.87\n",
      "Mediana de edad para la mujer 20 y para el hombre 20\n",
      "Desviación estandar de edad para la mujer 2.79 y para el hombre2.80\n"
     ]
    }
   ],
   "source": [
    "peso_mujer = dataset[dataset[\"Gender\"] == \"female\"].Weight.dropna()\n",
    "peso_hombre = dataset[dataset[\"Gender\"] == \"male\"].Weight.dropna()\n",
    "edad_mujer = dataset[dataset[\"Gender\"] == \"female\"].Age.dropna()\n",
    "edad_hombre = dataset[dataset[\"Gender\"] == \"male\"].Age.dropna()\n",
    "\n",
    "print(\"Moda de peso para la mujer {:.0f} y para el hombre {:.0f}\"\n",
    "      .format(peso_mujer.mode().values[0], peso_hombre.mode().values[0])\n",
    "     )\n",
    "print(\"Media de peso para la mujer {:.2f} y para el hombre {:.2f}\"\n",
    "      .format(peso_mujer.mean(), peso_hombre.mean())\n",
    "     )\n",
    "print(\"Mediana de peso de la mujer {:.0f} y para el hombre {:.0f}\"\n",
    "      .format(peso_mujer.median(), peso_hombre.median())\n",
    "     )\n",
    "print(\"Desviación estandar de peso para la mujer {:.2f} y para el hombre \"\n",
    "      \"{:.2f}\".format(peso_mujer.std(), peso_hombre.std()))\n",
    "print()\n",
    "print(\"Moda de edad para la mujer {:.0f} y para el hombre {:.0f}\"\n",
    "      .format(edad_mujer.mode().values[0], edad_hombre.mode().values[0])\n",
    "     )\n",
    "print(\"Media de edad para la mujer {:.2f} y para el hombre {:.2f}\".\n",
    "      format(edad_mujer.mean(), edad_hombre.mean())\n",
    "     )\n",
    "print(\"Mediana de edad para la mujer {:.0f} y para el hombre {:.0f}\"\n",
    "      .format(edad_mujer.median(), edad_hombre.median())\n",
    "     )\n",
    "print(\"Desviación estandar de edad para la mujer {:.2f} y para el hombre\"\n",
    "      \"{:.2f}\".format(edad_mujer.std(),edad_hombre.std())\n",
    "     )"
   ]
  },
  {
   "cell_type": "markdown",
   "metadata": {
    "colab_type": "text",
    "id": "DH8rBkDneFgR"
   },
   "source": [
    "Se observa que la edad tiene una distribusión casi identica entre hombre y mujeres, esto quiere decir que la edad no es dependiente del género.\n",
    "Observamos que en el caso del peso las distibuciones son similares como se puede ver gracias a la desviación típica. Sin embargo, la función de distribución para el género másculino está deplazada a la derecha. Esto ocurre porque la media de peso del hombre es mayor al de la mujer. Se observa que el peso si puede estar relacionado con el sexo."
   ]
  },
  {
   "cell_type": "code",
   "execution_count": 15,
   "metadata": {
    "colab": {
     "autoexec": {
      "startup": false,
      "wait_interval": 0
     },
     "base_uri": "https://localhost:8080/",
     "height": 334
    },
    "colab_type": "code",
    "executionInfo": {
     "elapsed": 1057,
     "status": "ok",
     "timestamp": 1524704880152,
     "user": {
      "displayName": "Fran Crespo",
      "photoUrl": "//lh4.googleusercontent.com/-0Mz_pAMlJ0Y/AAAAAAAAAAI/AAAAAAAAAF0/ysPVhmNs0k4/s50-c-k-no/photo.jpg",
      "userId": "115073487429097397864"
     },
     "user_tz": 180
    },
    "id": "924US_zlz7FT",
    "outputId": "b61cc17d-80ef-4552-e411-fcbe5e7ef00c"
   },
   "outputs": [
    {
     "data": {
      "image/png": "[encoded data removed]",
      "text/plain": [
       "<matplotlib.figure.Figure at 0x2085fbb0d30>"
      ]
     },
     "metadata": {},
     "output_type": "display_data"
    }
   ],
   "source": [
    "variable = \"Gender\"\n",
    "dataset.dropna(subset=[variable], inplace=True)\n",
    "dataset[\"all\"] = \"\"\n",
    "\n",
    "# datos sin putos atípicos\n",
    "fig, ax = plt.subplots(nrows=1, ncols=2, figsize=(19.5,5))\n",
    "\n",
    "data_weight = dataset[dataset[\"Weight\"] < 105].dropna()\n",
    "sns.violinplot(x='Weight',\n",
    "               y=\"all\", \n",
    "               hue=variable, \n",
    "               data=data_weight, \n",
    "               split=True, \n",
    "               ax=ax[0])\n",
    "\n",
    "data_age = dataset[dataset[\"Age\"] <= 26].dropna()\n",
    "sns.violinplot(x='Age', \n",
    "               y=\"all\", \n",
    "               hue=variable, \n",
    "               data=data_age, \n",
    "               split=True, \n",
    "               ax=ax[1])\n",
    "sns.despine()"
   ]
  },
  {
   "cell_type": "markdown",
   "metadata": {
    "colab_type": "text",
    "id": "S70m5Bxvfo--"
   },
   "source": [
    "En los gráficos de la parte superior se observa como las distribución de los valores de edad y peso son similares para hombres y mujeres.\n",
    "La única diferencia está marcada por la media en el peso. Los hombres son mas pesados que las mujeres."
   ]
  },
  {
   "cell_type": "markdown",
   "metadata": {
    "colab_type": "text",
    "id": "C7AHLpAeZGTg"
   },
   "source": [
    "Creamos un gráfico que muestra las relaciones por pares del conjunto de datos y, además, discrimanamos por género. A simple vista se puede observar que no existe relación entre las variables peso y edad para la muestra de población usada en la encuesta."
   ]
  },
  {
   "cell_type": "code",
   "execution_count": 24,
   "metadata": {
    "colab": {
     "autoexec": {
      "startup": false,
      "wait_interval": 0
     },
     "base_uri": "https://localhost:8080/",
     "height": 725
    },
    "colab_type": "code",
    "executionInfo": {
     "elapsed": 2653,
     "status": "ok",
     "timestamp": 1524703093731,
     "user": {
      "displayName": "Fran Crespo",
      "photoUrl": "//lh4.googleusercontent.com/-0Mz_pAMlJ0Y/AAAAAAAAAAI/AAAAAAAAAF0/ysPVhmNs0k4/s50-c-k-no/photo.jpg",
      "userId": "115073487429097397864"
     },
     "user_tz": 180
    },
    "id": "d4jKqM11f1Hd",
    "outputId": "87d9f913-8bc8-458c-a1f7-fd6531e67388"
   },
   "outputs": [
    {
     "data": {
      "image/png": "[encoded data removed]",
      "text/plain": [
       "<matplotlib.figure.Figure at 0x7f80ca727400>"
      ]
     },
     "metadata": {
      "tags": []
     },
     "output_type": "display_data"
    }
   ],
   "source": [
    "data = dataset.loc[:, [\"Weight\", \"Age\", \"Gender\"]].dropna()\n",
    "sns.pairplot(data, kind=\"reg\", hue=\"Gender\", size=5, aspect=1.2);"
   ]
  },
  {
   "cell_type": "markdown",
   "metadata": {
    "colab_type": "text",
    "id": "DB4RRxC9tfyi"
   },
   "source": [
    "A continuación obtenemos la matriz de correlación. Vemos como el coeficiente de correlación entre la edad y el peso es muy bajo. Con esto podemos deducir que no existe una relación lineal entres ambas variables."
   ]
  },
  {
   "cell_type": "code",
   "execution_count": 79,
   "metadata": {
    "colab": {
     "autoexec": {
      "startup": false,
      "wait_interval": 0
     },
     "base_uri": "https://localhost:8080/",
     "height": 111
    },
    "colab_type": "code",
    "executionInfo": {
     "elapsed": 728,
     "status": "ok",
     "timestamp": 1524708426612,
     "user": {
      "displayName": "Fran Crespo",
      "photoUrl": "//lh4.googleusercontent.com/-0Mz_pAMlJ0Y/AAAAAAAAAAI/AAAAAAAAAF0/ysPVhmNs0k4/s50-c-k-no/photo.jpg",
      "userId": "115073487429097397864"
     },
     "user_tz": 180
    },
    "id": "nSYYUPI9e11e",
    "outputId": "4ebb4b09-8047-4d75-c587-577a0c861fb6"
   },
   "outputs": [
    {
     "data": {
      "text/html": [
       "<div>\n",
       "<style scoped>\n",
       "    .dataframe tbody tr th:only-of-type {\n",
       "        vertical-align: middle;\n",
       "    }\n",
       "\n",
       "    .dataframe tbody tr th {\n",
       "        vertical-align: top;\n",
       "    }\n",
       "\n",
       "    .dataframe thead th {\n",
       "        text-align: right;\n",
       "    }\n",
       "</style>\n",
       "<table border=\"1\" class=\"dataframe\">\n",
       "  <thead>\n",
       "    <tr style=\"text-align: right;\">\n",
       "      <th></th>\n",
       "      <th>Weight</th>\n",
       "      <th>Age</th>\n",
       "    </tr>\n",
       "  </thead>\n",
       "  <tbody>\n",
       "    <tr>\n",
       "      <th>Weight</th>\n",
       "      <td>1.000000</td>\n",
       "      <td>0.234586</td>\n",
       "    </tr>\n",
       "    <tr>\n",
       "      <th>Age</th>\n",
       "      <td>0.234586</td>\n",
       "      <td>1.000000</td>\n",
       "    </tr>\n",
       "  </tbody>\n",
       "</table>\n",
       "</div>"
      ],
      "text/plain": [
       "          Weight       Age\n",
       "Weight  1.000000  0.234586\n",
       "Age     0.234586  1.000000"
      ]
     },
     "execution_count": 79,
     "metadata": {
      "tags": []
     },
     "output_type": "execute_result"
    }
   ],
   "source": [
    "dataset.loc[:, [\"Weight\", \"Age\"]].corr()"
   ]
  },
  {
   "cell_type": "markdown",
   "metadata": {
    "colab_type": "text",
    "id": "1mb8oQjMz0-O"
   },
   "source": [
    "\n",
    "*   Calcular la probabilidad marginal y conjunta, y la correlación entre otras dos variables, por ejemplo consumo de alcohol y tabaquismo."
   ]
  },
  {
   "cell_type": "code",
   "execution_count": 50,
   "metadata": {
    "colab": {
     "autoexec": {
      "startup": false,
      "wait_interval": 0
     },
     "base_uri": "https://localhost:8080/",
     "height": 235
    },
    "colab_type": "code",
    "executionInfo": {
     "elapsed": 715,
     "status": "ok",
     "timestamp": 1524789666387,
     "user": {
      "displayName": "Fran Crespo",
      "photoUrl": "//lh4.googleusercontent.com/-0Mz_pAMlJ0Y/AAAAAAAAAAI/AAAAAAAAAF0/ysPVhmNs0k4/s50-c-k-no/photo.jpg",
      "userId": "115073487429097397864"
     },
     "user_tz": 180
    },
    "id": "K9FhJnoDbvei",
    "outputId": "8ed44b46-fb40-4846-843e-72bccdd54f3c"
   },
   "outputs": [
    {
     "data": {
      "text/html": [
       "<div>\n",
       "<style scoped>\n",
       "    .dataframe tbody tr th:only-of-type {\n",
       "        vertical-align: middle;\n",
       "    }\n",
       "\n",
       "    .dataframe tbody tr th {\n",
       "        vertical-align: top;\n",
       "    }\n",
       "\n",
       "    .dataframe thead th {\n",
       "        text-align: right;\n",
       "    }\n",
       "</style>\n",
       "<table border=\"1\" class=\"dataframe\">\n",
       "  <thead>\n",
       "    <tr style=\"text-align: right;\">\n",
       "      <th>Alcohol</th>\n",
       "      <th>drink a lot</th>\n",
       "      <th>never</th>\n",
       "      <th>social drinker</th>\n",
       "      <th>All</th>\n",
       "    </tr>\n",
       "    <tr>\n",
       "      <th>Smoking</th>\n",
       "      <th></th>\n",
       "      <th></th>\n",
       "      <th></th>\n",
       "      <th></th>\n",
       "    </tr>\n",
       "  </thead>\n",
       "  <tbody>\n",
       "    <tr>\n",
       "      <th>current smoker</th>\n",
       "      <td>78</td>\n",
       "      <td>11</td>\n",
       "      <td>99</td>\n",
       "      <td>188</td>\n",
       "    </tr>\n",
       "    <tr>\n",
       "      <th>former smoker</th>\n",
       "      <td>55</td>\n",
       "      <td>11</td>\n",
       "      <td>109</td>\n",
       "      <td>175</td>\n",
       "    </tr>\n",
       "    <tr>\n",
       "      <th>never smoked</th>\n",
       "      <td>15</td>\n",
       "      <td>61</td>\n",
       "      <td>131</td>\n",
       "      <td>207</td>\n",
       "    </tr>\n",
       "    <tr>\n",
       "      <th>tried smoking</th>\n",
       "      <td>72</td>\n",
       "      <td>39</td>\n",
       "      <td>319</td>\n",
       "      <td>430</td>\n",
       "    </tr>\n",
       "    <tr>\n",
       "      <th>All</th>\n",
       "      <td>220</td>\n",
       "      <td>122</td>\n",
       "      <td>658</td>\n",
       "      <td>1000</td>\n",
       "    </tr>\n",
       "  </tbody>\n",
       "</table>\n",
       "</div>"
      ],
      "text/plain": [
       "Alcohol         drink a lot  never  social drinker   All\n",
       "Smoking                                                 \n",
       "current smoker           78     11              99   188\n",
       "former smoker            55     11             109   175\n",
       "never smoked             15     61             131   207\n",
       "tried smoking            72     39             319   430\n",
       "All                     220    122             658  1000"
      ]
     },
     "execution_count": 50,
     "metadata": {
      "tags": []
     },
     "output_type": "execute_result"
    }
   ],
   "source": [
    "df = pd.crosstab(index=dataset.Smoking, \n",
    "            columns=dataset.Alcohol,\n",
    "            margins=True)\n",
    "df"
   ]
  },
  {
   "cell_type": "code",
   "execution_count": 45,
   "metadata": {
    "colab": {
     "autoexec": {
      "startup": false,
      "wait_interval": 0
     },
     "base_uri": "https://localhost:8080/",
     "height": 204
    },
    "colab_type": "code",
    "executionInfo": {
     "elapsed": 733,
     "status": "ok",
     "timestamp": 1524789519538,
     "user": {
      "displayName": "Fran Crespo",
      "photoUrl": "//lh4.googleusercontent.com/-0Mz_pAMlJ0Y/AAAAAAAAAAI/AAAAAAAAAF0/ysPVhmNs0k4/s50-c-k-no/photo.jpg",
      "userId": "115073487429097397864"
     },
     "user_tz": 180
    },
    "id": "cAThaaQufFps",
    "outputId": "96574280-fd73-409a-f3ec-38ffe730dcd7"
   },
   "outputs": [
    {
     "name": "stdout",
     "output_type": "stream",
     "text": [
      "Probabilidad Marginal:\n",
      "......................\n",
      "Current Smoker 0.19\n",
      "Former Smoker 0.17\n",
      "Never Smoker 0.21\n",
      "Tried Smoking 0.43\n",
      "\n",
      "Drink a lot of 0.22\n",
      "Former Smoker 0.12\n",
      "Never Smoker 0.66\n",
      "......................\n"
     ]
    }
   ],
   "source": [
    "# Calculo de probabilidades:\n",
    "print('Probabilidad Marginal:')\n",
    "print('......................')\n",
    "print('Current Smoker {:.2f}'.format(df.iloc[0, 3] / df.iloc[4, 3]))\n",
    "print('Former Smoker {:.2f}'.format(df.iloc[1, 3] / df.iloc[4, 3]))\n",
    "print('Never Smoker {:.2f}'.format(df.iloc[2, 3] / df.iloc[4, 3]))\n",
    "print('Tried Smoking {:.2f}'.format(df.iloc[3, 3] / df.iloc[4, 3]))\n",
    "print()\n",
    "print('Drink a lot of {:.2f}'.format(df.iloc[4, 0] / df.iloc[4, 3]))\n",
    "print('Former Smoker {:.2f}'.format(df.iloc[4, 1] / df.iloc[4, 3]))\n",
    "print('Never Smoker {:.2f}'.format(df.iloc[4, 2] / df.iloc[4, 3]))\n",
    "print('......................')"
   ]
  },
  {
   "cell_type": "code",
   "execution_count": 109,
   "metadata": {
    "colab": {
     "autoexec": {
      "startup": false,
      "wait_interval": 0
     },
     "base_uri": "https://localhost:8080/",
     "height": 235
    },
    "colab_type": "code",
    "executionInfo": {
     "elapsed": 621,
     "status": "ok",
     "timestamp": 1524793986367,
     "user": {
      "displayName": "Fran Crespo",
      "photoUrl": "//lh4.googleusercontent.com/-0Mz_pAMlJ0Y/AAAAAAAAAAI/AAAAAAAAAF0/ysPVhmNs0k4/s50-c-k-no/photo.jpg",
      "userId": "115073487429097397864"
     },
     "user_tz": 180
    },
    "id": "repzavsrinb8",
    "outputId": "941ab3e0-d5a9-498b-d8eb-df5dfc56ccbc"
   },
   "outputs": [
    {
     "data": {
      "text/html": [
       "<div>\n",
       "<style scoped>\n",
       "    .dataframe tbody tr th:only-of-type {\n",
       "        vertical-align: middle;\n",
       "    }\n",
       "\n",
       "    .dataframe tbody tr th {\n",
       "        vertical-align: top;\n",
       "    }\n",
       "\n",
       "    .dataframe thead th {\n",
       "        text-align: right;\n",
       "    }\n",
       "</style>\n",
       "<table border=\"1\" class=\"dataframe\">\n",
       "  <thead>\n",
       "    <tr style=\"text-align: right;\">\n",
       "      <th>Alcohol</th>\n",
       "      <th>drink a lot</th>\n",
       "      <th>never</th>\n",
       "      <th>social drinker</th>\n",
       "      <th>All</th>\n",
       "    </tr>\n",
       "    <tr>\n",
       "      <th>Smoking</th>\n",
       "      <th></th>\n",
       "      <th></th>\n",
       "      <th></th>\n",
       "      <th></th>\n",
       "    </tr>\n",
       "  </thead>\n",
       "  <tbody>\n",
       "    <tr>\n",
       "      <th>current smoker</th>\n",
       "      <td>0.078</td>\n",
       "      <td>0.011</td>\n",
       "      <td>0.099</td>\n",
       "      <td>0.188</td>\n",
       "    </tr>\n",
       "    <tr>\n",
       "      <th>former smoker</th>\n",
       "      <td>0.055</td>\n",
       "      <td>0.011</td>\n",
       "      <td>0.109</td>\n",
       "      <td>0.175</td>\n",
       "    </tr>\n",
       "    <tr>\n",
       "      <th>never smoked</th>\n",
       "      <td>0.015</td>\n",
       "      <td>0.061</td>\n",
       "      <td>0.131</td>\n",
       "      <td>0.207</td>\n",
       "    </tr>\n",
       "    <tr>\n",
       "      <th>tried smoking</th>\n",
       "      <td>0.072</td>\n",
       "      <td>0.039</td>\n",
       "      <td>0.319</td>\n",
       "      <td>0.430</td>\n",
       "    </tr>\n",
       "    <tr>\n",
       "      <th>All</th>\n",
       "      <td>0.220</td>\n",
       "      <td>0.122</td>\n",
       "      <td>0.658</td>\n",
       "      <td>1.000</td>\n",
       "    </tr>\n",
       "  </tbody>\n",
       "</table>\n",
       "</div>"
      ],
      "text/plain": [
       "Alcohol         drink a lot  never  social drinker    All\n",
       "Smoking                                                  \n",
       "current smoker        0.078  0.011           0.099  0.188\n",
       "former smoker         0.055  0.011           0.109  0.175\n",
       "never smoked          0.015  0.061           0.131  0.207\n",
       "tried smoking         0.072  0.039           0.319  0.430\n",
       "All                   0.220  0.122           0.658  1.000"
      ]
     },
     "execution_count": 109,
     "metadata": {
      "tags": []
     },
     "output_type": "execute_result"
    }
   ],
   "source": [
    "# Para obtener la probabilidad conjunta basta con normalizar\n",
    "# la tabla de doble entrada\n",
    "fpc = pd.crosstab(index=dataset.Smoking, \n",
    "            columns=dataset.Alcohol,\n",
    "            margins=True,\n",
    "            normalize=True)\n",
    "fpc"
   ]
  },
  {
   "cell_type": "code",
   "execution_count": 107,
   "metadata": {
    "colab": {
     "autoexec": {
      "startup": false,
      "wait_interval": 0
     },
     "base_uri": "https://localhost:8080/",
     "height": 32
    },
    "colab_type": "code",
    "executionInfo": {
     "elapsed": 742,
     "status": "ok",
     "timestamp": 1524793388231,
     "user": {
      "displayName": "Fran Crespo",
      "photoUrl": "//lh4.googleusercontent.com/-0Mz_pAMlJ0Y/AAAAAAAAAAI/AAAAAAAAAF0/ysPVhmNs0k4/s50-c-k-no/photo.jpg",
      "userId": "115073487429097397864"
     },
     "user_tz": 180
    },
    "id": "gE96c1WJwbtf",
    "outputId": "2f44bb99-8457-489c-d821-5dfff92edf62"
   },
   "outputs": [
    {
     "data": {
      "text/html": [
       "<div>\n",
       "<style scoped>\n",
       "    .dataframe tbody tr th:only-of-type {\n",
       "        vertical-align: middle;\n",
       "    }\n",
       "\n",
       "    .dataframe tbody tr th {\n",
       "        vertical-align: top;\n",
       "    }\n",
       "\n",
       "    .dataframe thead th {\n",
       "        text-align: right;\n",
       "    }\n",
       "</style>\n",
       "<table border=\"1\" class=\"dataframe\">\n",
       "  <thead>\n",
       "    <tr style=\"text-align: right;\">\n",
       "      <th></th>\n",
       "    </tr>\n",
       "  </thead>\n",
       "  <tbody>\n",
       "  </tbody>\n",
       "</table>\n",
       "</div>"
      ],
      "text/plain": [
       "Empty DataFrame\n",
       "Columns: []\n",
       "Index: []"
      ]
     },
     "execution_count": 107,
     "metadata": {
      "tags": []
     },
     "output_type": "execute_result"
    }
   ],
   "source": [
    "# Mostramos la tabla de correlación entre los distintos datos de las variables \n",
    "# estudiadas.\n",
    "dataset.loc[:, [\"Smoking\", \"Alcohol\"]].corr()\n",
    "\n",
    "# No se como podemos hacer la correlacion entre dos conjuntos de tamaño \n",
    "#diferente variables categoricas"
   ]
  },
  {
   "cell_type": "markdown",
   "metadata": {
    "colab_type": "text",
    "id": "qinCVd7Pz173"
   },
   "source": [
    "\n",
    "*   Representar visualmente la probabilidad conjunta entre los valores posibles de las variables elegidas."
   ]
  },
  {
   "cell_type": "code",
   "execution_count": 108,
   "metadata": {
    "colab": {
     "autoexec": {
      "startup": false,
      "wait_interval": 0
     },
     "base_uri": "https://localhost:8080/",
     "height": 388
    },
    "colab_type": "code",
    "executionInfo": {
     "elapsed": 843,
     "status": "ok",
     "timestamp": 1524793478527,
     "user": {
      "displayName": "Fran Crespo",
      "photoUrl": "//lh4.googleusercontent.com/-0Mz_pAMlJ0Y/AAAAAAAAAAI/AAAAAAAAAF0/ysPVhmNs0k4/s50-c-k-no/photo.jpg",
      "userId": "115073487429097397864"
     },
     "user_tz": 180
    },
    "id": "mkBshaEBz8Tv",
    "outputId": "fa582be0-abf3-4456-d40b-07d9a6cff1fd"
   },
   "outputs": [
    {
     "data": {
      "image/png": "[encoded data removed]",
      "text/plain": [
       "<matplotlib.figure.Figure at 0x7efed61ede80>"
      ]
     },
     "metadata": {
      "tags": []
     },
     "output_type": "display_data"
    }
   ],
   "source": [
    "# Representamos la probabilidad conjunta mediante un mapa de calor\n",
    "fpc_not_margins = pd.crosstab(index=dataset.Smoking, \n",
    "            columns=dataset.Alcohol,\n",
    "            normalize=True)\n",
    "\n",
    "f, ax = plt.subplots(figsize=(9, 6))\n",
    "sns.heatmap(fpc_not_margins, annot=True, linewidths=.5, ax=ax)\n",
    "sns.despine()\n"
   ]
  },
  {
   "cell_type": "markdown",
   "metadata": {
    "colab_type": "text",
    "id": "8QkI0ggDz3Bb"
   },
   "source": [
    "*   Responda a la siguientes preguntas: ¿Qué pasaría con los niveles de tabaquismo si se prohíbe fumar en los bares? ¿Qué pasaría con la cantidad de consumidores de alcohol si disminuye la cantidad de fumadores que consumen alcohol?"
   ]
  },
  {
   "cell_type": "markdown",
   "metadata": {
    "colab_type": "text",
    "id": "tAyetoy3zvd2"
   },
   "source": [
    "Vemos que el conjunto de datos que muestra más probabilidad es el de bebedores sociales que intentan fumar. Si se prohibe fumar en los bares el consumo de tabaco bajaría ya que los bebedores sociales no tendrian la tentación de agarrar un cigarro.\n",
    "Si disminuye la cantidad de fumadores que consume alcohol bajaría la cantidad de consumidores de Alcohol. Si nos fijamos en la tabla de abajo vemos que bajando la cantidad de los numeros en la fila 0, columnas 0 y 3, el total de fumadores disminuye, fila 0 y columna 4."
   ]
  },
  {
   "cell_type": "code",
   "execution_count": 110,
   "metadata": {
    "colab": {
     "autoexec": {
      "startup": false,
      "wait_interval": 0
     },
     "base_uri": "https://localhost:8080/",
     "height": 235
    },
    "colab_type": "code",
    "executionInfo": {
     "elapsed": 748,
     "status": "ok",
     "timestamp": 1524794723319,
     "user": {
      "displayName": "Fran Crespo",
      "photoUrl": "//lh4.googleusercontent.com/-0Mz_pAMlJ0Y/AAAAAAAAAAI/AAAAAAAAAF0/ysPVhmNs0k4/s50-c-k-no/photo.jpg",
      "userId": "115073487429097397864"
     },
     "user_tz": 180
    },
    "id": "ruD4w1Cr2L_8",
    "outputId": "a309d783-d1e7-4bae-d2b3-118da0e9f007"
   },
   "outputs": [
    {
     "data": {
      "text/html": [
       "<div>\n",
       "<style scoped>\n",
       "    .dataframe tbody tr th:only-of-type {\n",
       "        vertical-align: middle;\n",
       "    }\n",
       "\n",
       "    .dataframe tbody tr th {\n",
       "        vertical-align: top;\n",
       "    }\n",
       "\n",
       "    .dataframe thead th {\n",
       "        text-align: right;\n",
       "    }\n",
       "</style>\n",
       "<table border=\"1\" class=\"dataframe\">\n",
       "  <thead>\n",
       "    <tr style=\"text-align: right;\">\n",
       "      <th>Alcohol</th>\n",
       "      <th>drink a lot</th>\n",
       "      <th>never</th>\n",
       "      <th>social drinker</th>\n",
       "      <th>All</th>\n",
       "    </tr>\n",
       "    <tr>\n",
       "      <th>Smoking</th>\n",
       "      <th></th>\n",
       "      <th></th>\n",
       "      <th></th>\n",
       "      <th></th>\n",
       "    </tr>\n",
       "  </thead>\n",
       "  <tbody>\n",
       "    <tr>\n",
       "      <th>current smoker</th>\n",
       "      <td>78</td>\n",
       "      <td>11</td>\n",
       "      <td>99</td>\n",
       "      <td>188</td>\n",
       "    </tr>\n",
       "    <tr>\n",
       "      <th>former smoker</th>\n",
       "      <td>55</td>\n",
       "      <td>11</td>\n",
       "      <td>109</td>\n",
       "      <td>175</td>\n",
       "    </tr>\n",
       "    <tr>\n",
       "      <th>never smoked</th>\n",
       "      <td>15</td>\n",
       "      <td>61</td>\n",
       "      <td>131</td>\n",
       "      <td>207</td>\n",
       "    </tr>\n",
       "    <tr>\n",
       "      <th>tried smoking</th>\n",
       "      <td>72</td>\n",
       "      <td>39</td>\n",
       "      <td>319</td>\n",
       "      <td>430</td>\n",
       "    </tr>\n",
       "    <tr>\n",
       "      <th>All</th>\n",
       "      <td>220</td>\n",
       "      <td>122</td>\n",
       "      <td>658</td>\n",
       "      <td>1000</td>\n",
       "    </tr>\n",
       "  </tbody>\n",
       "</table>\n",
       "</div>"
      ],
      "text/plain": [
       "Alcohol         drink a lot  never  social drinker   All\n",
       "Smoking                                                 \n",
       "current smoker           78     11              99   188\n",
       "former smoker            55     11             109   175\n",
       "never smoked             15     61             131   207\n",
       "tried smoking            72     39             319   430\n",
       "All                     220    122             658  1000"
      ]
     },
     "execution_count": 110,
     "metadata": {
      "tags": []
     },
     "output_type": "execute_result"
    }
   ],
   "source": [
    "df"
   ]
  }
 ],
 "metadata": {
  "accelerator": "GPU",
  "colab": {
   "collapsed_sections": [],
   "default_view": {},
   "name": "Laboratorio 1.ipynb",
   "provenance": [],
   "version": "0.3.2",
   "views": {}
  },
  "kernelspec": {
   "display_name": "Python 3",
   "language": "python",
   "name": "python3"
  },
  "language_info": {
   "codemirror_mode": {
    "name": "ipython",
    "version": 3
   },
   "file_extension": ".py",
   "mimetype": "text/x-python",
   "name": "python",
   "nbconvert_exporter": "python",
   "pygments_lexer": "ipython3",
   "version": "3.6.4"
  }
 },
 "nbformat": 4,
 "nbformat_minor": 1
}
